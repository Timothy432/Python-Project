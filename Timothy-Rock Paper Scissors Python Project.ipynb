{
 "cells": [
  {
   "cell_type": "code",
   "execution_count": null,
   "metadata": {
    "scrolled": true
   },
   "outputs": [
    {
     "name": "stdout",
     "output_type": "stream",
     "text": [
      "Rock Paper Scissors\n",
      "Available options :\n",
      "1. Rock\n",
      "2. Scissors\n",
      "3. Paper\n"
     ]
    }
   ],
   "source": [
    "import random \n",
    "\n",
    "print (\"Rock Paper Scissors\")\n",
    "print (\"Available options :\")\n",
    "print (\"1. Rock\")\n",
    "print (\"2. Scissors\")\n",
    "print (\"3. Paper\")\n",
    "\n",
    "def choose_option():\n",
    "    you = int(input(\"Input your choice\")) \n",
    "    com = random.choice([\"Rock\", \"Scissors\", \"Paper\"])\n",
    "    if you == 1:\n",
    "        print (\"you : Rock\")\n",
    "        print (\"Computer:\", com)\n",
    "        if com == \"Rock\":\n",
    "            print (\"Draw\")\n",
    "        elif com == \"Scissors\":\n",
    "            print (\"You Win\")\n",
    "        else:\n",
    "            print (\"You Lose\")\n",
    "    elif you == 2:\n",
    "        print (\"you : Scissors\")\n",
    "        print (\"Computer:\", com)\n",
    "        if com == \"Rock\":\n",
    "            print (\"You Lose\")\n",
    "        elif com == \"Scissors\":\n",
    "            print (\"Draw\")\n",
    "        else:\n",
    "            print (\"You Win\")\n",
    "    elif you == 3:\n",
    "        print (\"you : Paper\")\n",
    "        print (\"Computer:\", com)\n",
    "        if com == \"Rock\":\n",
    "            print (\"You Win\")\n",
    "        elif com == \"Scissors\":\n",
    "            print (\"You Lose\")\n",
    "        else:\n",
    "            print (\"Draw\")\n",
    "    else:\n",
    "        print (\"Your choice is not right\")\n",
    "choose_option()   \n"
   ]
  }
 ],
 "metadata": {
  "kernelspec": {
   "display_name": "Python 3",
   "language": "python",
   "name": "python3"
  },
  "language_info": {
   "codemirror_mode": {
    "name": "ipython",
    "version": 3
   },
   "file_extension": ".py",
   "mimetype": "text/x-python",
   "name": "python",
   "nbconvert_exporter": "python",
   "pygments_lexer": "ipython3",
   "version": "3.7.4"
  }
 },
 "nbformat": 4,
 "nbformat_minor": 2
}
